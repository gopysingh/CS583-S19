{
 "cells": [
  {
   "cell_type": "markdown",
   "metadata": {
    "colab_type": "text",
    "id": "FGpab84RUE1z"
   },
   "source": [
    "# Home 3: Build a CNN for image recognition.\n",
    "\n",
    "### Name: [Gurpreet Singh]\n"
   ]
  },
  {
   "cell_type": "markdown",
   "metadata": {
    "colab_type": "text",
    "id": "Idt7_ZQ2UE11"
   },
   "source": [
    "## 0. You will do the following:\n",
    "\n",
    "1. Read, complete, and run my code.\n",
    "\n",
    "2. **Make substantial improvements** to maximize the accurcy.\n",
    "    \n",
    "3. Convert the .IPYNB file to .HTML file.\n",
    "\n",
    "    * The HTML file must contain the code and the output after execution.\n",
    "    \n",
    "4. Upload this .HTML file to your Github repo.\n",
    "\n",
    "4. Submit the link to this .HTML file to Canvas.\n",
    "\n",
    "    * Example: https://github.com/wangshusen/CS583A-2019Spring/blob/master/homework/HM3/cnn.html\n"
   ]
  },
  {
   "cell_type": "markdown",
   "metadata": {
    "colab_type": "text",
    "id": "ungChk1LUE12"
   },
   "source": [
    "## 1. Data preparation"
   ]
  },
  {
   "cell_type": "markdown",
   "metadata": {
    "colab_type": "text",
    "id": "VuaKyJl3UE12"
   },
   "source": [
    "### 1.1. Load data\n"
   ]
  },
  {
   "cell_type": "code",
   "execution_count": 1,
   "metadata": {
    "colab": {
     "base_uri": "https://localhost:8080/",
     "height": 102
    },
    "colab_type": "code",
    "id": "tT9tIf3RUE13",
    "outputId": "3df863ed-e211-4ad9-a7f0-622f7c856447"
   },
   "outputs": [
    {
     "name": "stderr",
     "output_type": "stream",
     "text": [
      "Using TensorFlow backend.\n"
     ]
    },
    {
     "name": "stdout",
     "output_type": "stream",
     "text": [
      "shape of x_train: (50000, 32, 32, 3)\n",
      "shape of y_train: (50000, 1)\n",
      "shape of x_test: (10000, 32, 32, 3)\n",
      "shape of y_test: (10000, 1)\n",
      "number of classes: 10\n"
     ]
    }
   ],
   "source": [
    "from keras.datasets import cifar10\n",
    "import numpy\n",
    "\n",
    "(x_train, y_train), (x_test, y_test) = cifar10.load_data()\n",
    "\n",
    "print('shape of x_train: ' + str(x_train.shape))\n",
    "print('shape of y_train: ' + str(y_train.shape))\n",
    "print('shape of x_test: ' + str(x_test.shape))\n",
    "print('shape of y_test: ' + str(y_test.shape))\n",
    "print('number of classes: ' + str(numpy.max(y_train) - numpy.min(y_train) + 1))"
   ]
  },
  {
   "cell_type": "markdown",
   "metadata": {
    "colab_type": "text",
    "id": "fBa52YCiUE17"
   },
   "source": [
    "### 1.2. One-hot encode the labels\n",
    "\n",
    "In the input, a label is a scalar in $\\{0, 1, \\cdots , 9\\}$. One-hot encode transform such a scalar to a $10$-dim vector. E.g., a scalar ```y_train[j]=3``` is transformed to the vector ```y_train_vec[j]=[0, 0, 0, 1, 0, 0, 0, 0, 0, 0]```.\n",
    "\n",
    "1. Define a function ```to_one_hot``` that transforms an $n\\times 1$ array to a $n\\times 10$ matrix.\n",
    "\n",
    "2. Apply the function to ```y_train``` and ```y_test```."
   ]
  },
  {
   "cell_type": "code",
   "execution_count": 2,
   "metadata": {
    "colab": {
     "base_uri": "https://localhost:8080/",
     "height": 102
    },
    "colab_type": "code",
    "id": "nn3v7gMbUE18",
    "outputId": "e73ab5c2-60e9-4e93-982d-00425de640c7"
   },
   "outputs": [
    {
     "name": "stdout",
     "output_type": "stream",
     "text": [
      "Shape of y_train_vec: (50000, 10)\n",
      "Shape of y_test_vec: (10000, 10)\n",
      "[6]\n",
      "[0. 0. 0. 0. 0. 0. 1. 0. 0. 0.]\n",
      "Num Classes: 10\n"
     ]
    }
   ],
   "source": [
    "from keras.utils import np_utils\n",
    "\n",
    "y_train_vec = np_utils.to_categorical(y_train)\n",
    "y_test_vec = np_utils.to_categorical(y_test)\n",
    "\n",
    "num_classes = y_test_vec.shape[1]\n",
    "\n",
    "print('Shape of y_train_vec: ' + str(y_train_vec.shape))\n",
    "print('Shape of y_test_vec: ' + str(y_test_vec.shape))\n",
    "\n",
    "print(y_train[0])\n",
    "print(y_train_vec[0])\n",
    "print('Num Classes: ' + str(num_classes))"
   ]
  },
  {
   "cell_type": "markdown",
   "metadata": {
    "colab_type": "text",
    "id": "qeuhqrGzUE1_"
   },
   "source": [
    "#### Remark: the outputs should be\n",
    "* Shape of y_train_vec: (50000, 10)\n",
    "* Shape of y_test_vec: (10000, 10)\n",
    "* [6]\n",
    "* [0. 0. 0. 0. 0. 0. 1. 0. 0. 0.]"
   ]
  },
  {
   "cell_type": "markdown",
   "metadata": {
    "colab_type": "text",
    "id": "X-kwHR7eUE2A"
   },
   "source": [
    "### 1.3. Randomly partition the training set to training and validation sets\n",
    "\n",
    "Randomly partition the 50K training samples to 2 sets:\n",
    "* a training set containing 40K samples\n",
    "* a validation set containing 10K samples\n"
   ]
  },
  {
   "cell_type": "code",
   "execution_count": 4,
   "metadata": {
    "colab": {
     "base_uri": "https://localhost:8080/",
     "height": 85
    },
    "colab_type": "code",
    "id": "1gdgyWhTUE2A",
    "outputId": "c6cd6336-f6a0-47d2-c25a-3800122c0262"
   },
   "outputs": [
    {
     "name": "stdout",
     "output_type": "stream",
     "text": [
      "Shape of x_tr: (40000, 32, 32, 3)\n",
      "Shape of y_tr: (40000, 10)\n",
      "Shape of x_val: (10000, 32, 32, 3)\n",
      "Shape of y_val: (10000, 10)\n"
     ]
    }
   ],
   "source": [
    "rand_indices = numpy.random.permutation(50000)\n",
    "train_indices = rand_indices[0:40000]\n",
    "valid_indices = rand_indices[40000:50000]\n",
    "\n",
    "x_val = x_train[valid_indices, :]\n",
    "y_val = y_train_vec[valid_indices, :]\n",
    "\n",
    "x_tr = x_train[train_indices, :]\n",
    "y_tr = y_train_vec[train_indices, :]\n",
    "\n",
    "print('Shape of x_tr: ' + str(x_tr.shape))\n",
    "print('Shape of y_tr: ' + str(y_tr.shape))\n",
    "print('Shape of x_val: ' + str(x_val.shape))\n",
    "print('Shape of y_val: ' + str(y_val.shape))"
   ]
  },
  {
   "cell_type": "markdown",
   "metadata": {
    "colab_type": "text",
    "id": "QWZ4KTTmUE2E"
   },
   "source": [
    "## 2. Build a CNN and tune its hyper-parameters\n",
    "\n",
    "1. Build a convolutional neural network model\n",
    "2. Use the validation data to tune the hyper-parameters (e.g., network structure, and optimization algorithm)\n",
    "    * Do NOT use test data for hyper-parameter tuning!!!\n",
    "3. Try to achieve a validation accuracy as high as possible."
   ]
  },
  {
   "cell_type": "markdown",
   "metadata": {
    "colab_type": "text",
    "id": "GKV_G6JTUE2F"
   },
   "source": [
    "### Remark: \n",
    "\n",
    "The following CNN is just an example. You are supposed to make **substantial improvements** such as:\n",
    "* Add more layers.\n",
    "* Use regularizations, e.g., dropout.\n",
    "* Use batch normalization."
   ]
  },
  {
   "cell_type": "code",
   "execution_count": 29,
   "metadata": {
    "colab": {
     "base_uri": "https://localhost:8080/",
     "height": 748
    },
    "colab_type": "code",
    "id": "1TrmdpBeUE2G",
    "outputId": "c236dab6-411b-4cbf-a6cc-98307b114e0c"
   },
   "outputs": [
    {
     "name": "stdout",
     "output_type": "stream",
     "text": [
      "_________________________________________________________________\n",
      "Layer (type)                 Output Shape              Param #   \n",
      "=================================================================\n",
      "conv2d_4 (Conv2D)            (None, 32, 32, 32)        896       \n",
      "_________________________________________________________________\n",
      "batch_normalization_5 (Batch (None, 32, 32, 32)        128       \n",
      "_________________________________________________________________\n",
      "activation_5 (Activation)    (None, 32, 32, 32)        0         \n",
      "_________________________________________________________________\n",
      "max_pooling2d_4 (MaxPooling2 (None, 16, 16, 32)        0         \n",
      "_________________________________________________________________\n",
      "conv2d_5 (Conv2D)            (None, 16, 16, 64)        18496     \n",
      "_________________________________________________________________\n",
      "batch_normalization_6 (Batch (None, 16, 16, 64)        256       \n",
      "_________________________________________________________________\n",
      "activation_6 (Activation)    (None, 16, 16, 64)        0         \n",
      "_________________________________________________________________\n",
      "max_pooling2d_5 (MaxPooling2 (None, 8, 8, 64)          0         \n",
      "_________________________________________________________________\n",
      "conv2d_6 (Conv2D)            (None, 8, 8, 128)         73856     \n",
      "_________________________________________________________________\n",
      "batch_normalization_7 (Batch (None, 8, 8, 128)         512       \n",
      "_________________________________________________________________\n",
      "activation_7 (Activation)    (None, 8, 8, 128)         0         \n",
      "_________________________________________________________________\n",
      "max_pooling2d_6 (MaxPooling2 (None, 4, 4, 128)         0         \n",
      "_________________________________________________________________\n",
      "flatten_2 (Flatten)          (None, 2048)              0         \n",
      "_________________________________________________________________\n",
      "dropout_2 (Dropout)          (None, 2048)              0         \n",
      "_________________________________________________________________\n",
      "dense_3 (Dense)              (None, 128)               262272    \n",
      "_________________________________________________________________\n",
      "batch_normalization_8 (Batch (None, 128)               512       \n",
      "_________________________________________________________________\n",
      "activation_8 (Activation)    (None, 128)               0         \n",
      "_________________________________________________________________\n",
      "dense_4 (Dense)              (None, 10)                1290      \n",
      "=================================================================\n",
      "Total params: 358,218\n",
      "Trainable params: 357,514\n",
      "Non-trainable params: 704\n",
      "_________________________________________________________________\n"
     ]
    }
   ],
   "source": [
    "from keras.layers import Conv2D, MaxPooling2D, Flatten, Dense, Dropout, BatchNormalization, Activation\n",
    "from keras.models import Sequential\n",
    "\n",
    "IMAGE_SIZE = 32\n",
    "CHANNELS = 3\n",
    "\n",
    "model = Sequential()\n",
    "\n",
    "# 32 filters AND kernel 3X3\n",
    "model.add(Conv2D(32, (3, 3), padding='same', input_shape=(IMAGE_SIZE, IMAGE_SIZE, CHANNELS)))\n",
    "model.add(BatchNormalization())\n",
    "model.add(Activation('relu'))\n",
    "model.add(MaxPooling2D((2, 2)))\n",
    "\n",
    "model.add(Conv2D(64, (3, 3), padding='same'))\n",
    "model.add(BatchNormalization())\n",
    "model.add(Activation('relu'))\n",
    "model.add(MaxPooling2D((2, 2)))\n",
    "\n",
    "model.add(Conv2D(128, (3, 3), padding='same'))\n",
    "model.add(BatchNormalization())\n",
    "model.add(Activation('relu'))\n",
    "model.add(MaxPooling2D((2, 2)))\n",
    "\n",
    "model.add(Flatten())\n",
    "model.add(Dropout(0.5))\n",
    "\n",
    "model.add(Dense(128))\n",
    "model.add(BatchNormalization())\n",
    "model.add(Activation('relu'))\n",
    "\n",
    "model.add(Dense(num_classes, activation='softmax'))\n",
    "\n",
    "model.summary()"
   ]
  },
  {
   "cell_type": "code",
   "execution_count": 0,
   "metadata": {
    "colab": {},
    "colab_type": "code",
    "id": "CHafL1ejaP_M"
   },
   "outputs": [],
   "source": [
    "from keras import optimizers\n",
    "\n",
    "learning_rate = 1E-4\n",
    "epochs = 100\n",
    "batch_size = 64\n",
    "\n",
    "model.compile(loss='categorical_crossentropy',\n",
    "              optimizer=optimizers.RMSprop(lr=learning_rate),\n",
    "              metrics=['acc'])"
   ]
  },
  {
   "cell_type": "code",
   "execution_count": 0,
   "metadata": {
    "colab": {},
    "colab_type": "code",
    "id": "4cOHCimOagtz"
   },
   "outputs": [],
   "source": [
    "# data augmentation\n",
    "\n",
    "from keras.preprocessing.image import ImageDataGenerator\n",
    "\n",
    "datagen = ImageDataGenerator(\n",
    "    rotation_range=10,\n",
    "    width_shift_range=0.1,\n",
    "    height_shift_range=0.1)\n",
    "\n",
    "datagen.fit(x_tr)\n",
    "\n",
    "train_generator = datagen.flow(x_tr, y_tr, batch_size=batch_size)"
   ]
  },
  {
   "cell_type": "code",
   "execution_count": 32,
   "metadata": {
    "colab": {
     "base_uri": "https://localhost:8080/",
     "height": 3417
    },
    "colab_type": "code",
    "id": "C6d7vX-fwz1R",
    "outputId": "8a5b647a-f5e8-4ba9-be8c-890170c49d2c"
   },
   "outputs": [
    {
     "name": "stdout",
     "output_type": "stream",
     "text": [
      "Epoch 1/100\n",
      "625/625 [==============================] - 28s 45ms/step - loss: 1.8386 - acc: 0.3400 - val_loss: 1.4628 - val_acc: 0.4816\n",
      "Epoch 2/100\n",
      "625/625 [==============================] - 27s 43ms/step - loss: 1.5027 - acc: 0.4599 - val_loss: 1.3128 - val_acc: 0.5318\n",
      "Epoch 3/100\n",
      "625/625 [==============================] - 27s 43ms/step - loss: 1.3656 - acc: 0.5101 - val_loss: 1.2076 - val_acc: 0.5741\n",
      "Epoch 4/100\n",
      "625/625 [==============================] - 27s 43ms/step - loss: 1.2814 - acc: 0.5435 - val_loss: 1.1734 - val_acc: 0.5850\n",
      "Epoch 5/100\n",
      "625/625 [==============================] - 27s 43ms/step - loss: 1.2246 - acc: 0.5639 - val_loss: 1.1357 - val_acc: 0.5994\n",
      "Epoch 6/100\n",
      "625/625 [==============================] - 27s 43ms/step - loss: 1.1744 - acc: 0.5818 - val_loss: 1.0434 - val_acc: 0.6323\n",
      "Epoch 7/100\n",
      "625/625 [==============================] - 27s 43ms/step - loss: 1.1399 - acc: 0.5956 - val_loss: 1.0203 - val_acc: 0.6354\n",
      "Epoch 8/100\n",
      "625/625 [==============================] - 27s 43ms/step - loss: 1.1016 - acc: 0.6096 - val_loss: 0.9754 - val_acc: 0.6535\n",
      "Epoch 9/100\n",
      "625/625 [==============================] - 27s 43ms/step - loss: 1.0738 - acc: 0.6168 - val_loss: 1.0244 - val_acc: 0.6454\n",
      "Epoch 10/100\n",
      "625/625 [==============================] - 27s 43ms/step - loss: 1.0444 - acc: 0.6310 - val_loss: 1.0362 - val_acc: 0.6383\n",
      "Epoch 11/100\n",
      "625/625 [==============================] - 27s 43ms/step - loss: 1.0230 - acc: 0.6377 - val_loss: 1.0570 - val_acc: 0.6347\n",
      "Epoch 12/100\n",
      "625/625 [==============================] - 27s 43ms/step - loss: 1.0103 - acc: 0.6448 - val_loss: 1.0225 - val_acc: 0.6394\n",
      "Epoch 13/100\n",
      "625/625 [==============================] - 27s 44ms/step - loss: 0.9835 - acc: 0.6503 - val_loss: 0.8615 - val_acc: 0.6980\n",
      "Epoch 14/100\n",
      "625/625 [==============================] - 27s 43ms/step - loss: 0.9628 - acc: 0.6592 - val_loss: 0.9826 - val_acc: 0.6627\n",
      "Epoch 15/100\n",
      "625/625 [==============================] - 27s 43ms/step - loss: 0.9471 - acc: 0.6670 - val_loss: 0.9964 - val_acc: 0.6497\n",
      "Epoch 16/100\n",
      "625/625 [==============================] - 27s 43ms/step - loss: 0.9348 - acc: 0.6695 - val_loss: 0.9355 - val_acc: 0.6727\n",
      "Epoch 17/100\n",
      "625/625 [==============================] - 27s 44ms/step - loss: 0.9176 - acc: 0.6758 - val_loss: 0.8821 - val_acc: 0.6905\n",
      "Epoch 18/100\n",
      "625/625 [==============================] - 27s 43ms/step - loss: 0.9057 - acc: 0.6804 - val_loss: 0.8899 - val_acc: 0.6878\n",
      "Epoch 19/100\n",
      "625/625 [==============================] - 27s 43ms/step - loss: 0.8990 - acc: 0.6830 - val_loss: 1.0925 - val_acc: 0.6262\n",
      "Epoch 20/100\n",
      "625/625 [==============================] - 27s 43ms/step - loss: 0.8806 - acc: 0.6893 - val_loss: 0.9061 - val_acc: 0.6832\n",
      "Epoch 21/100\n",
      "625/625 [==============================] - 27s 43ms/step - loss: 0.8683 - acc: 0.6932 - val_loss: 0.8176 - val_acc: 0.7057\n",
      "Epoch 22/100\n",
      "625/625 [==============================] - 27s 43ms/step - loss: 0.8586 - acc: 0.6982 - val_loss: 0.9655 - val_acc: 0.6630\n",
      "Epoch 23/100\n",
      "625/625 [==============================] - 27s 43ms/step - loss: 0.8454 - acc: 0.7017 - val_loss: 0.7710 - val_acc: 0.7262\n",
      "Epoch 24/100\n",
      "625/625 [==============================] - 27s 43ms/step - loss: 0.8396 - acc: 0.7027 - val_loss: 0.8081 - val_acc: 0.7197\n",
      "Epoch 25/100\n",
      "625/625 [==============================] - 27s 43ms/step - loss: 0.8286 - acc: 0.7078 - val_loss: 0.8785 - val_acc: 0.6957\n",
      "Epoch 26/100\n",
      "625/625 [==============================] - 27s 43ms/step - loss: 0.8140 - acc: 0.7147 - val_loss: 0.7762 - val_acc: 0.7259\n",
      "Epoch 27/100\n",
      "625/625 [==============================] - 27s 43ms/step - loss: 0.8138 - acc: 0.7109 - val_loss: 0.8873 - val_acc: 0.6929\n",
      "Epoch 28/100\n",
      "625/625 [==============================] - 27s 43ms/step - loss: 0.8043 - acc: 0.7162 - val_loss: 0.8716 - val_acc: 0.6955\n",
      "Epoch 29/100\n",
      "625/625 [==============================] - 27s 43ms/step - loss: 0.7951 - acc: 0.7204 - val_loss: 0.8526 - val_acc: 0.7054\n",
      "Epoch 30/100\n",
      "625/625 [==============================] - 27s 43ms/step - loss: 0.7895 - acc: 0.7209 - val_loss: 0.8137 - val_acc: 0.7131\n",
      "Epoch 31/100\n",
      "625/625 [==============================] - 27s 43ms/step - loss: 0.7801 - acc: 0.7253 - val_loss: 0.7599 - val_acc: 0.7345\n",
      "Epoch 32/100\n",
      "625/625 [==============================] - 27s 43ms/step - loss: 0.7712 - acc: 0.7267 - val_loss: 0.7350 - val_acc: 0.7399\n",
      "Epoch 33/100\n",
      "625/625 [==============================] - 27s 43ms/step - loss: 0.7665 - acc: 0.7297 - val_loss: 0.8290 - val_acc: 0.7078\n",
      "Epoch 34/100\n",
      "625/625 [==============================] - 27s 43ms/step - loss: 0.7564 - acc: 0.7350 - val_loss: 0.7961 - val_acc: 0.7233\n",
      "Epoch 35/100\n",
      "625/625 [==============================] - 27s 43ms/step - loss: 0.7553 - acc: 0.7320 - val_loss: 0.8518 - val_acc: 0.7024\n",
      "Epoch 36/100\n",
      "625/625 [==============================] - 27s 42ms/step - loss: 0.7460 - acc: 0.7363 - val_loss: 0.7683 - val_acc: 0.7284\n",
      "Epoch 37/100\n",
      "625/625 [==============================] - 26s 42ms/step - loss: 0.7365 - acc: 0.7420 - val_loss: 0.7111 - val_acc: 0.7517\n",
      "Epoch 38/100\n",
      "625/625 [==============================] - 27s 43ms/step - loss: 0.7356 - acc: 0.7418 - val_loss: 0.6903 - val_acc: 0.7519\n",
      "Epoch 39/100\n",
      "625/625 [==============================] - 26s 42ms/step - loss: 0.7263 - acc: 0.7448 - val_loss: 0.7519 - val_acc: 0.7333\n",
      "Epoch 40/100\n",
      "625/625 [==============================] - 27s 43ms/step - loss: 0.7225 - acc: 0.7460 - val_loss: 0.6746 - val_acc: 0.7598\n",
      "Epoch 41/100\n",
      "625/625 [==============================] - 27s 43ms/step - loss: 0.7219 - acc: 0.7453 - val_loss: 0.8755 - val_acc: 0.7069\n",
      "Epoch 42/100\n",
      "625/625 [==============================] - 27s 43ms/step - loss: 0.7122 - acc: 0.7490 - val_loss: 0.7476 - val_acc: 0.7391\n",
      "Epoch 43/100\n",
      "625/625 [==============================] - 27s 43ms/step - loss: 0.7075 - acc: 0.7520 - val_loss: 0.8480 - val_acc: 0.7153\n",
      "Epoch 44/100\n",
      "625/625 [==============================] - 27s 43ms/step - loss: 0.7000 - acc: 0.7563 - val_loss: 0.7344 - val_acc: 0.7434\n",
      "Epoch 45/100\n",
      "625/625 [==============================] - 27s 43ms/step - loss: 0.6974 - acc: 0.7547 - val_loss: 0.8791 - val_acc: 0.7019\n",
      "Epoch 46/100\n",
      "625/625 [==============================] - 27s 43ms/step - loss: 0.6984 - acc: 0.7532 - val_loss: 0.6641 - val_acc: 0.7617\n",
      "Epoch 47/100\n",
      "625/625 [==============================] - 27s 43ms/step - loss: 0.6853 - acc: 0.7597 - val_loss: 0.6809 - val_acc: 0.7599\n",
      "Epoch 48/100\n",
      "625/625 [==============================] - 27s 43ms/step - loss: 0.6915 - acc: 0.7581 - val_loss: 0.6654 - val_acc: 0.7640\n",
      "Epoch 49/100\n",
      "625/625 [==============================] - 27s 43ms/step - loss: 0.6803 - acc: 0.7595 - val_loss: 0.7849 - val_acc: 0.7315\n",
      "Epoch 50/100\n",
      "625/625 [==============================] - 27s 43ms/step - loss: 0.6724 - acc: 0.7648 - val_loss: 0.6748 - val_acc: 0.7657\n",
      "Epoch 51/100\n",
      "625/625 [==============================] - 27s 43ms/step - loss: 0.6703 - acc: 0.7631 - val_loss: 0.6373 - val_acc: 0.7722\n",
      "Epoch 52/100\n",
      "625/625 [==============================] - 27s 43ms/step - loss: 0.6631 - acc: 0.7668 - val_loss: 0.7101 - val_acc: 0.7483\n",
      "Epoch 53/100\n",
      "625/625 [==============================] - 27s 43ms/step - loss: 0.6615 - acc: 0.7677 - val_loss: 0.7439 - val_acc: 0.7449\n",
      "Epoch 54/100\n",
      "625/625 [==============================] - 27s 43ms/step - loss: 0.6557 - acc: 0.7702 - val_loss: 0.8066 - val_acc: 0.7350\n",
      "Epoch 55/100\n",
      "625/625 [==============================] - 27s 43ms/step - loss: 0.6500 - acc: 0.7722 - val_loss: 0.7448 - val_acc: 0.7451\n",
      "Epoch 56/100\n",
      "625/625 [==============================] - 27s 43ms/step - loss: 0.6466 - acc: 0.7702 - val_loss: 0.7997 - val_acc: 0.7323\n",
      "Epoch 57/100\n",
      "625/625 [==============================] - 27s 43ms/step - loss: 0.6456 - acc: 0.7723 - val_loss: 0.6813 - val_acc: 0.7604\n",
      "Epoch 58/100\n",
      "625/625 [==============================] - 27s 43ms/step - loss: 0.6437 - acc: 0.7740 - val_loss: 0.7864 - val_acc: 0.7321\n",
      "Epoch 59/100\n",
      "625/625 [==============================] - 27s 43ms/step - loss: 0.6419 - acc: 0.7747 - val_loss: 0.6531 - val_acc: 0.7672\n",
      "Epoch 60/100\n",
      "625/625 [==============================] - 27s 43ms/step - loss: 0.6327 - acc: 0.7780 - val_loss: 0.7231 - val_acc: 0.7542\n",
      "Epoch 61/100\n",
      "625/625 [==============================] - 27s 43ms/step - loss: 0.6300 - acc: 0.7772 - val_loss: 0.7085 - val_acc: 0.7598\n",
      "Epoch 62/100\n",
      "625/625 [==============================] - 27s 43ms/step - loss: 0.6225 - acc: 0.7817 - val_loss: 0.6642 - val_acc: 0.7646\n",
      "Epoch 63/100\n",
      "625/625 [==============================] - 27s 43ms/step - loss: 0.6222 - acc: 0.7819 - val_loss: 0.6025 - val_acc: 0.7892\n",
      "Epoch 64/100\n",
      "625/625 [==============================] - 27s 43ms/step - loss: 0.6197 - acc: 0.7820 - val_loss: 0.7295 - val_acc: 0.7460\n",
      "Epoch 65/100\n",
      "625/625 [==============================] - 27s 43ms/step - loss: 0.6154 - acc: 0.7816 - val_loss: 0.6656 - val_acc: 0.7641\n",
      "Epoch 66/100\n",
      "625/625 [==============================] - 27s 43ms/step - loss: 0.6117 - acc: 0.7840 - val_loss: 0.6728 - val_acc: 0.7679\n",
      "Epoch 67/100\n",
      "625/625 [==============================] - 27s 43ms/step - loss: 0.6114 - acc: 0.7866 - val_loss: 0.6929 - val_acc: 0.7562\n",
      "Epoch 68/100\n",
      "625/625 [==============================] - 27s 43ms/step - loss: 0.6084 - acc: 0.7856 - val_loss: 0.6658 - val_acc: 0.7691\n",
      "Epoch 69/100\n",
      "625/625 [==============================] - 27s 43ms/step - loss: 0.6025 - acc: 0.7914 - val_loss: 0.5768 - val_acc: 0.7974\n",
      "Epoch 70/100\n",
      "625/625 [==============================] - 27s 43ms/step - loss: 0.5952 - acc: 0.7907 - val_loss: 0.6565 - val_acc: 0.7731\n",
      "Epoch 71/100\n",
      "625/625 [==============================] - 27s 43ms/step - loss: 0.5994 - acc: 0.7899 - val_loss: 0.6016 - val_acc: 0.7918\n",
      "Epoch 72/100\n",
      "625/625 [==============================] - 27s 42ms/step - loss: 0.5986 - acc: 0.7887 - val_loss: 0.6634 - val_acc: 0.7724\n",
      "Epoch 73/100\n",
      "625/625 [==============================] - 27s 43ms/step - loss: 0.5904 - acc: 0.7942 - val_loss: 0.7660 - val_acc: 0.7378\n",
      "Epoch 74/100\n",
      "625/625 [==============================] - 27s 43ms/step - loss: 0.5861 - acc: 0.7915 - val_loss: 0.6205 - val_acc: 0.7837\n",
      "Epoch 75/100\n",
      "625/625 [==============================] - 27s 43ms/step - loss: 0.5885 - acc: 0.7924 - val_loss: 0.6189 - val_acc: 0.7842\n",
      "Epoch 76/100\n",
      "625/625 [==============================] - 27s 43ms/step - loss: 0.5859 - acc: 0.7947 - val_loss: 0.6811 - val_acc: 0.7693\n",
      "Epoch 77/100\n",
      "625/625 [==============================] - 27s 43ms/step - loss: 0.5825 - acc: 0.7953 - val_loss: 0.6036 - val_acc: 0.7879\n",
      "Epoch 78/100\n",
      "625/625 [==============================] - 27s 43ms/step - loss: 0.5786 - acc: 0.7966 - val_loss: 0.6553 - val_acc: 0.7685\n",
      "Epoch 79/100\n",
      "625/625 [==============================] - 27s 43ms/step - loss: 0.5757 - acc: 0.7981 - val_loss: 0.6700 - val_acc: 0.7678\n",
      "Epoch 80/100\n",
      "625/625 [==============================] - 26s 42ms/step - loss: 0.5720 - acc: 0.8004 - val_loss: 0.5855 - val_acc: 0.7925\n",
      "Epoch 81/100\n",
      "625/625 [==============================] - 26s 42ms/step - loss: 0.5738 - acc: 0.7984 - val_loss: 0.7204 - val_acc: 0.7584\n",
      "Epoch 82/100\n",
      "625/625 [==============================] - 26s 42ms/step - loss: 0.5712 - acc: 0.8000 - val_loss: 0.6035 - val_acc: 0.7886\n",
      "Epoch 83/100\n",
      "625/625 [==============================] - 27s 42ms/step - loss: 0.5642 - acc: 0.8033 - val_loss: 0.6276 - val_acc: 0.7824\n",
      "Epoch 84/100\n",
      "625/625 [==============================] - 26s 42ms/step - loss: 0.5645 - acc: 0.8018 - val_loss: 0.6483 - val_acc: 0.7718\n",
      "Epoch 85/100\n",
      "625/625 [==============================] - 26s 42ms/step - loss: 0.5615 - acc: 0.8017 - val_loss: 0.6001 - val_acc: 0.7897\n",
      "Epoch 86/100\n",
      "625/625 [==============================] - 27s 43ms/step - loss: 0.5598 - acc: 0.8024 - val_loss: 0.6231 - val_acc: 0.7852\n",
      "Epoch 87/100\n",
      "625/625 [==============================] - 26s 42ms/step - loss: 0.5560 - acc: 0.8056 - val_loss: 0.6229 - val_acc: 0.7863\n",
      "Epoch 88/100\n",
      "625/625 [==============================] - 26s 42ms/step - loss: 0.5538 - acc: 0.8051 - val_loss: 0.6529 - val_acc: 0.7801\n",
      "Epoch 89/100\n",
      "625/625 [==============================] - 26s 42ms/step - loss: 0.5494 - acc: 0.8086 - val_loss: 0.6136 - val_acc: 0.7902\n",
      "Epoch 90/100\n",
      "625/625 [==============================] - 26s 42ms/step - loss: 0.5505 - acc: 0.8061 - val_loss: 0.7785 - val_acc: 0.7448\n",
      "Epoch 91/100\n",
      "625/625 [==============================] - 27s 42ms/step - loss: 0.5500 - acc: 0.8055 - val_loss: 0.5899 - val_acc: 0.7929\n",
      "Epoch 92/100\n",
      "625/625 [==============================] - 27s 43ms/step - loss: 0.5464 - acc: 0.8098 - val_loss: 0.6462 - val_acc: 0.7807\n",
      "Epoch 93/100\n",
      "625/625 [==============================] - 27s 42ms/step - loss: 0.5435 - acc: 0.8085 - val_loss: 0.6440 - val_acc: 0.7792\n",
      "Epoch 94/100\n",
      "625/625 [==============================] - 26s 42ms/step - loss: 0.5457 - acc: 0.8083 - val_loss: 0.5998 - val_acc: 0.7941\n",
      "Epoch 95/100\n",
      "625/625 [==============================] - 26s 42ms/step - loss: 0.5379 - acc: 0.8100 - val_loss: 0.8367 - val_acc: 0.7338\n",
      "Epoch 96/100\n",
      "625/625 [==============================] - 26s 42ms/step - loss: 0.5333 - acc: 0.8129 - val_loss: 0.6162 - val_acc: 0.7900\n",
      "Epoch 97/100\n",
      "625/625 [==============================] - 26s 42ms/step - loss: 0.5428 - acc: 0.8084 - val_loss: 0.7094 - val_acc: 0.7558\n",
      "Epoch 98/100\n",
      "625/625 [==============================] - 27s 43ms/step - loss: 0.5384 - acc: 0.8112 - val_loss: 0.6792 - val_acc: 0.7772\n",
      "Epoch 99/100\n",
      "625/625 [==============================] - 26s 42ms/step - loss: 0.5302 - acc: 0.8155 - val_loss: 0.6484 - val_acc: 0.7848\n",
      "Epoch 100/100\n",
      "625/625 [==============================] - 26s 42ms/step - loss: 0.5362 - acc: 0.8121 - val_loss: 0.7174 - val_acc: 0.7638\n"
     ]
    }
   ],
   "source": [
    "history = model.fit_generator(train_generator,\n",
    "                    epochs=epochs,\n",
    "                    validation_data=(x_val, y_val),\n",
    "                    steps_per_epoch=len(x_tr)/batch_size)"
   ]
  },
  {
   "cell_type": "code",
   "execution_count": 33,
   "metadata": {
    "colab": {
     "base_uri": "https://localhost:8080/",
     "height": 279
    },
    "colab_type": "code",
    "id": "5aedPzwAt5ED",
    "outputId": "44805328-82fe-4735-b33a-5bde313b4046"
   },
   "outputs": [
    {
     "data": {
      "image/png": "[encoded data removed]",
      "text/plain": [
       "<Figure size 432x288 with 1 Axes>"
      ]
     },
     "metadata": {
      "tags": []
     },
     "output_type": "display_data"
    }
   ],
   "source": [
    "import matplotlib.pyplot as plt\n",
    "%matplotlib inline\n",
    "\n",
    "acc = history.history['acc']\n",
    "val_acc = history.history['val_acc']\n",
    "\n",
    "epochs = range(len(acc))\n",
    "\n",
    "plt.plot(epochs, acc, 'bo', label='Training acc')\n",
    "plt.plot(epochs, val_acc, 'r', label='Validation acc')\n",
    "plt.xlabel('Epochs')\n",
    "plt.ylabel('Accuracy')\n",
    "plt.legend()\n",
    "plt.show()"
   ]
  },
  {
   "cell_type": "code",
   "execution_count": 0,
   "metadata": {
    "colab": {},
    "colab_type": "code",
    "id": "ueNvVH0jUE2L"
   },
   "outputs": [],
   "source": [
    "# history = model.fit(x_tr, y_tr, batch_size=128, epochs=25, validation_data=(x_val, y_val))"
   ]
  },
  {
   "cell_type": "markdown",
   "metadata": {
    "colab_type": "text",
    "id": "vNngkLK_UE2Q"
   },
   "source": [
    "## 3. Train (again) and evaluate the model\n",
    "\n",
    "- To this end, you have found the \"best\" hyper-parameters. \n",
    "- Now, fix the hyper-parameters and train the network on the entire training set (all the 50K training samples)\n",
    "- Evaluate your model on the test set."
   ]
  },
  {
   "cell_type": "markdown",
   "metadata": {
    "colab_type": "text",
    "id": "PuBT_p_vUE2R"
   },
   "source": [
    "### 3.1. Train the model on the entire training set\n",
    "\n",
    "Why? Previously, you used 40K samples for training; you wasted 10K samples for the sake of hyper-parameter tuning. Now you already know the hyper-parameters, so why not using all the 50K samples for training?"
   ]
  },
  {
   "cell_type": "code",
   "execution_count": 35,
   "metadata": {
    "colab": {
     "base_uri": "https://localhost:8080/",
     "height": 4148
    },
    "colab_type": "code",
    "id": "OZFklNaMUE2S",
    "outputId": "f5667f98-3613-4ad1-db9a-b53a5f9429ae"
   },
   "outputs": [
    {
     "name": "stdout",
     "output_type": "stream",
     "text": [
      "_________________________________________________________________\n",
      "Layer (type)                 Output Shape              Param #   \n",
      "=================================================================\n",
      "conv2d_10 (Conv2D)           (None, 32, 32, 32)        896       \n",
      "_________________________________________________________________\n",
      "batch_normalization_13 (Batc (None, 32, 32, 32)        128       \n",
      "_________________________________________________________________\n",
      "activation_13 (Activation)   (None, 32, 32, 32)        0         \n",
      "_________________________________________________________________\n",
      "max_pooling2d_10 (MaxPooling (None, 16, 16, 32)        0         \n",
      "_________________________________________________________________\n",
      "conv2d_11 (Conv2D)           (None, 16, 16, 64)        18496     \n",
      "_________________________________________________________________\n",
      "batch_normalization_14 (Batc (None, 16, 16, 64)        256       \n",
      "_________________________________________________________________\n",
      "activation_14 (Activation)   (None, 16, 16, 64)        0         \n",
      "_________________________________________________________________\n",
      "max_pooling2d_11 (MaxPooling (None, 8, 8, 64)          0         \n",
      "_________________________________________________________________\n",
      "conv2d_12 (Conv2D)           (None, 8, 8, 128)         73856     \n",
      "_________________________________________________________________\n",
      "batch_normalization_15 (Batc (None, 8, 8, 128)         512       \n",
      "_________________________________________________________________\n",
      "activation_15 (Activation)   (None, 8, 8, 128)         0         \n",
      "_________________________________________________________________\n",
      "max_pooling2d_12 (MaxPooling (None, 4, 4, 128)         0         \n",
      "_________________________________________________________________\n",
      "flatten_4 (Flatten)          (None, 2048)              0         \n",
      "_________________________________________________________________\n",
      "dropout_4 (Dropout)          (None, 2048)              0         \n",
      "_________________________________________________________________\n",
      "dense_7 (Dense)              (None, 128)               262272    \n",
      "_________________________________________________________________\n",
      "batch_normalization_16 (Batc (None, 128)               512       \n",
      "_________________________________________________________________\n",
      "activation_16 (Activation)   (None, 128)               0         \n",
      "_________________________________________________________________\n",
      "dense_8 (Dense)              (None, 10)                1290      \n",
      "=================================================================\n",
      "Total params: 358,218\n",
      "Trainable params: 357,514\n",
      "Non-trainable params: 704\n",
      "_________________________________________________________________\n",
      "Epoch 1/100\n",
      "782/781 [==============================] - 34s 43ms/step - loss: 1.7710 - acc: 0.3633\n",
      "Epoch 2/100\n",
      "782/781 [==============================] - 32s 41ms/step - loss: 1.4472 - acc: 0.4794\n",
      "Epoch 3/100\n",
      "782/781 [==============================] - 32s 41ms/step - loss: 1.3184 - acc: 0.5268\n",
      "Epoch 4/100\n",
      "782/781 [==============================] - 32s 41ms/step - loss: 1.2336 - acc: 0.5586\n",
      "Epoch 5/100\n",
      "782/781 [==============================] - 32s 41ms/step - loss: 1.1668 - acc: 0.5834\n",
      "Epoch 6/100\n",
      "782/781 [==============================] - 32s 41ms/step - loss: 1.1123 - acc: 0.6067\n",
      "Epoch 7/100\n",
      "782/781 [==============================] - 32s 41ms/step - loss: 1.0765 - acc: 0.6203\n",
      "Epoch 8/100\n",
      "782/781 [==============================] - 32s 41ms/step - loss: 1.0452 - acc: 0.6315\n",
      "Epoch 9/100\n",
      "782/781 [==============================] - 33s 42ms/step - loss: 1.0158 - acc: 0.6402\n",
      "Epoch 10/100\n",
      "782/781 [==============================] - 32s 42ms/step - loss: 0.9913 - acc: 0.6485\n",
      "Epoch 11/100\n",
      "782/781 [==============================] - 32s 41ms/step - loss: 0.9677 - acc: 0.6588\n",
      "Epoch 12/100\n",
      "782/781 [==============================] - 32s 41ms/step - loss: 0.9506 - acc: 0.6639\n",
      "Epoch 13/100\n",
      "782/781 [==============================] - 32s 41ms/step - loss: 0.9295 - acc: 0.6713\n",
      "Epoch 14/100\n",
      "782/781 [==============================] - 32s 41ms/step - loss: 0.9084 - acc: 0.6774\n",
      "Epoch 15/100\n",
      "782/781 [==============================] - 32s 42ms/step - loss: 0.8997 - acc: 0.6834\n",
      "Epoch 16/100\n",
      "782/781 [==============================] - 32s 41ms/step - loss: 0.8865 - acc: 0.6880\n",
      "Epoch 17/100\n",
      "782/781 [==============================] - 32s 41ms/step - loss: 0.8705 - acc: 0.6919\n",
      "Epoch 18/100\n",
      "782/781 [==============================] - 32s 41ms/step - loss: 0.8572 - acc: 0.6977\n",
      "Epoch 19/100\n",
      "782/781 [==============================] - 32s 41ms/step - loss: 0.8467 - acc: 0.7022\n",
      "Epoch 20/100\n",
      "782/781 [==============================] - 32s 41ms/step - loss: 0.8394 - acc: 0.7045\n",
      "Epoch 21/100\n",
      "782/781 [==============================] - 32s 41ms/step - loss: 0.8299 - acc: 0.7069\n",
      "Epoch 22/100\n",
      "782/781 [==============================] - 32s 41ms/step - loss: 0.8150 - acc: 0.7157\n",
      "Epoch 23/100\n",
      "782/781 [==============================] - 32s 41ms/step - loss: 0.8098 - acc: 0.7163\n",
      "Epoch 24/100\n",
      "782/781 [==============================] - 32s 41ms/step - loss: 0.7977 - acc: 0.7175\n",
      "Epoch 25/100\n",
      "782/781 [==============================] - 32s 41ms/step - loss: 0.7874 - acc: 0.7224\n",
      "Epoch 26/100\n",
      "782/781 [==============================] - 32s 40ms/step - loss: 0.7811 - acc: 0.7243\n",
      "Epoch 27/100\n",
      "782/781 [==============================] - 32s 41ms/step - loss: 0.7741 - acc: 0.7261\n",
      "Epoch 28/100\n",
      "782/781 [==============================] - 32s 41ms/step - loss: 0.7652 - acc: 0.7320\n",
      "Epoch 29/100\n",
      "782/781 [==============================] - 32s 41ms/step - loss: 0.7589 - acc: 0.7323\n",
      "Epoch 30/100\n",
      "782/781 [==============================] - 32s 40ms/step - loss: 0.7527 - acc: 0.7346\n",
      "Epoch 31/100\n",
      "782/781 [==============================] - 32s 40ms/step - loss: 0.7435 - acc: 0.7380\n",
      "Epoch 32/100\n",
      "782/781 [==============================] - 32s 40ms/step - loss: 0.7360 - acc: 0.7400\n",
      "Epoch 33/100\n",
      "782/781 [==============================] - 32s 40ms/step - loss: 0.7301 - acc: 0.7450\n",
      "Epoch 34/100\n",
      "782/781 [==============================] - 32s 41ms/step - loss: 0.7263 - acc: 0.7434\n",
      "Epoch 35/100\n",
      "782/781 [==============================] - 32s 41ms/step - loss: 0.7169 - acc: 0.7482\n",
      "Epoch 36/100\n",
      "782/781 [==============================] - 32s 41ms/step - loss: 0.7126 - acc: 0.7487\n",
      "Epoch 37/100\n",
      "782/781 [==============================] - 32s 41ms/step - loss: 0.7035 - acc: 0.7512\n",
      "Epoch 38/100\n",
      "782/781 [==============================] - 32s 41ms/step - loss: 0.7022 - acc: 0.7515\n",
      "Epoch 39/100\n",
      "782/781 [==============================] - 32s 41ms/step - loss: 0.6953 - acc: 0.7563\n",
      "Epoch 40/100\n",
      "782/781 [==============================] - 32s 41ms/step - loss: 0.6873 - acc: 0.7563\n",
      "Epoch 41/100\n",
      "782/781 [==============================] - 32s 41ms/step - loss: 0.6872 - acc: 0.7582\n",
      "Epoch 42/100\n",
      "782/781 [==============================] - 32s 41ms/step - loss: 0.6842 - acc: 0.7600\n",
      "Epoch 43/100\n",
      "782/781 [==============================] - 32s 41ms/step - loss: 0.6786 - acc: 0.7624\n",
      "Epoch 44/100\n",
      "782/781 [==============================] - 32s 41ms/step - loss: 0.6710 - acc: 0.7633\n",
      "Epoch 45/100\n",
      "782/781 [==============================] - 32s 41ms/step - loss: 0.6611 - acc: 0.7675\n",
      "Epoch 46/100\n",
      "782/781 [==============================] - 32s 41ms/step - loss: 0.6580 - acc: 0.7702\n",
      "Epoch 47/100\n",
      "782/781 [==============================] - 32s 41ms/step - loss: 0.6541 - acc: 0.7705\n",
      "Epoch 48/100\n",
      "782/781 [==============================] - 32s 41ms/step - loss: 0.6515 - acc: 0.7696\n",
      "Epoch 49/100\n",
      "782/781 [==============================] - 32s 41ms/step - loss: 0.6465 - acc: 0.7714\n",
      "Epoch 50/100\n",
      "782/781 [==============================] - 32s 41ms/step - loss: 0.6419 - acc: 0.7746\n",
      "Epoch 51/100\n",
      "782/781 [==============================] - 32s 41ms/step - loss: 0.6391 - acc: 0.7742\n",
      "Epoch 52/100\n",
      "782/781 [==============================] - 32s 41ms/step - loss: 0.6340 - acc: 0.7781\n",
      "Epoch 53/100\n",
      "782/781 [==============================] - 32s 41ms/step - loss: 0.6352 - acc: 0.7775\n",
      "Epoch 54/100\n",
      "782/781 [==============================] - 32s 41ms/step - loss: 0.6299 - acc: 0.7798\n",
      "Epoch 55/100\n",
      "782/781 [==============================] - 32s 41ms/step - loss: 0.6207 - acc: 0.7815\n",
      "Epoch 56/100\n",
      "782/781 [==============================] - 32s 41ms/step - loss: 0.6227 - acc: 0.7815\n",
      "Epoch 57/100\n",
      "782/781 [==============================] - 32s 41ms/step - loss: 0.6189 - acc: 0.7842\n",
      "Epoch 58/100\n",
      "782/781 [==============================] - 32s 41ms/step - loss: 0.6106 - acc: 0.7864\n",
      "Epoch 59/100\n",
      "782/781 [==============================] - 32s 41ms/step - loss: 0.6093 - acc: 0.7872\n",
      "Epoch 60/100\n",
      "782/781 [==============================] - 32s 41ms/step - loss: 0.6088 - acc: 0.7874\n",
      "Epoch 61/100\n",
      "782/781 [==============================] - 32s 41ms/step - loss: 0.6031 - acc: 0.7900\n",
      "Epoch 62/100\n",
      "782/781 [==============================] - 32s 41ms/step - loss: 0.6011 - acc: 0.7899\n",
      "Epoch 63/100\n",
      "782/781 [==============================] - 32s 41ms/step - loss: 0.5978 - acc: 0.7897\n",
      "Epoch 64/100\n",
      "782/781 [==============================] - 32s 41ms/step - loss: 0.5932 - acc: 0.7934\n",
      "Epoch 65/100\n",
      "782/781 [==============================] - 32s 41ms/step - loss: 0.5915 - acc: 0.7925\n",
      "Epoch 66/100\n",
      "782/781 [==============================] - 32s 41ms/step - loss: 0.5868 - acc: 0.7946\n",
      "Epoch 67/100\n",
      "782/781 [==============================] - 32s 41ms/step - loss: 0.5886 - acc: 0.7950\n",
      "Epoch 68/100\n",
      "782/781 [==============================] - 32s 41ms/step - loss: 0.5822 - acc: 0.7956\n",
      "Epoch 69/100\n",
      "782/781 [==============================] - 32s 41ms/step - loss: 0.5789 - acc: 0.7976\n",
      "Epoch 70/100\n",
      "782/781 [==============================] - 32s 41ms/step - loss: 0.5806 - acc: 0.7963\n",
      "Epoch 71/100\n",
      "782/781 [==============================] - 33s 42ms/step - loss: 0.5768 - acc: 0.7986\n",
      "Epoch 72/100\n",
      "782/781 [==============================] - 32s 41ms/step - loss: 0.5730 - acc: 0.8000\n",
      "Epoch 73/100\n",
      "782/781 [==============================] - 32s 41ms/step - loss: 0.5700 - acc: 0.7982\n",
      "Epoch 74/100\n",
      "782/781 [==============================] - 32s 41ms/step - loss: 0.5678 - acc: 0.8030\n",
      "Epoch 75/100\n",
      "782/781 [==============================] - 32s 40ms/step - loss: 0.5679 - acc: 0.8016\n",
      "Epoch 76/100\n",
      "782/781 [==============================] - 32s 41ms/step - loss: 0.5671 - acc: 0.8013\n",
      "Epoch 77/100\n",
      "782/781 [==============================] - 32s 41ms/step - loss: 0.5602 - acc: 0.8045\n",
      "Epoch 78/100\n",
      "782/781 [==============================] - 32s 40ms/step - loss: 0.5559 - acc: 0.8058\n",
      "Epoch 79/100\n",
      "782/781 [==============================] - 32s 40ms/step - loss: 0.5507 - acc: 0.8067\n",
      "Epoch 80/100\n",
      "782/781 [==============================] - 32s 41ms/step - loss: 0.5493 - acc: 0.8077\n",
      "Epoch 81/100\n",
      "782/781 [==============================] - 32s 41ms/step - loss: 0.5501 - acc: 0.8076\n",
      "Epoch 82/100\n",
      "782/781 [==============================] - 32s 41ms/step - loss: 0.5435 - acc: 0.8093\n",
      "Epoch 83/100\n",
      "782/781 [==============================] - 32s 41ms/step - loss: 0.5419 - acc: 0.8097\n",
      "Epoch 84/100\n",
      "782/781 [==============================] - 32s 41ms/step - loss: 0.5380 - acc: 0.8097\n",
      "Epoch 85/100\n",
      "782/781 [==============================] - 32s 41ms/step - loss: 0.5449 - acc: 0.8086\n",
      "Epoch 86/100\n",
      "782/781 [==============================] - 32s 41ms/step - loss: 0.5414 - acc: 0.8095\n",
      "Epoch 87/100\n",
      "782/781 [==============================] - 32s 41ms/step - loss: 0.5371 - acc: 0.8129\n",
      "Epoch 88/100\n",
      "782/781 [==============================] - 32s 41ms/step - loss: 0.5315 - acc: 0.8146\n",
      "Epoch 89/100\n",
      "782/781 [==============================] - 32s 41ms/step - loss: 0.5311 - acc: 0.8129\n",
      "Epoch 90/100\n",
      "782/781 [==============================] - 32s 41ms/step - loss: 0.5314 - acc: 0.8146\n",
      "Epoch 91/100\n",
      "782/781 [==============================] - 32s 41ms/step - loss: 0.5295 - acc: 0.8146\n",
      "Epoch 92/100\n",
      "782/781 [==============================] - 32s 41ms/step - loss: 0.5204 - acc: 0.8172\n",
      "Epoch 93/100\n",
      "782/781 [==============================] - 32s 40ms/step - loss: 0.5227 - acc: 0.8167\n",
      "Epoch 94/100\n",
      "782/781 [==============================] - 32s 41ms/step - loss: 0.5201 - acc: 0.8176\n",
      "Epoch 95/100\n",
      "782/781 [==============================] - 32s 41ms/step - loss: 0.5250 - acc: 0.8165\n",
      "Epoch 96/100\n",
      "782/781 [==============================] - 32s 41ms/step - loss: 0.5180 - acc: 0.8201\n",
      "Epoch 97/100\n",
      "782/781 [==============================] - 32s 41ms/step - loss: 0.5201 - acc: 0.8179\n",
      "Epoch 98/100\n",
      "782/781 [==============================] - 32s 41ms/step - loss: 0.5222 - acc: 0.8179\n",
      "Epoch 99/100\n",
      "782/781 [==============================] - 32s 41ms/step - loss: 0.5096 - acc: 0.8218\n",
      "Epoch 100/100\n",
      "782/781 [==============================] - 32s 41ms/step - loss: 0.5101 - acc: 0.8201\n"
     ]
    }
   ],
   "source": [
    "from keras.layers import Conv2D, MaxPooling2D, Flatten, Dense, Dropout, BatchNormalization, Activation\n",
    "from keras.models import Sequential\n",
    "\n",
    "IMAGE_SIZE = 32\n",
    "CHANNELS = 3\n",
    "\n",
    "model = Sequential()\n",
    "\n",
    "# 32 filters AND kernel 3X3\n",
    "model.add(Conv2D(32, (3, 3), padding='same', input_shape=(IMAGE_SIZE, IMAGE_SIZE, CHANNELS)))\n",
    "model.add(BatchNormalization())\n",
    "model.add(Activation('relu'))\n",
    "model.add(MaxPooling2D((2, 2)))\n",
    "\n",
    "model.add(Conv2D(64, (3, 3), padding='same'))\n",
    "model.add(BatchNormalization())\n",
    "model.add(Activation('relu'))\n",
    "model.add(MaxPooling2D((2, 2)))\n",
    "\n",
    "model.add(Conv2D(128, (3, 3), padding='same'))\n",
    "model.add(BatchNormalization())\n",
    "model.add(Activation('relu'))\n",
    "model.add(MaxPooling2D((2, 2)))\n",
    "\n",
    "model.add(Flatten())\n",
    "model.add(Dropout(0.5))\n",
    "\n",
    "model.add(Dense(128))\n",
    "model.add(BatchNormalization())\n",
    "model.add(Activation('relu'))\n",
    "\n",
    "model.add(Dense(num_classes, activation='softmax'))\n",
    "\n",
    "model.summary()\n",
    "\n",
    "learning_rate = 1E-4\n",
    "epochs = 100\n",
    "batch_size = 64\n",
    "\n",
    "datagen.fit(x_train)\n",
    "\n",
    "train_generator = datagen.flow(x_train, y_train_vec, batch_size=batch_size)\n",
    "\n",
    "model.compile(loss='categorical_crossentropy',\n",
    "              optimizer=optimizers.RMSprop(lr=learning_rate),\n",
    "              metrics=['acc'])\n",
    "\n",
    "history = model.fit_generator(train_generator,\n",
    "                    epochs=epochs,\n",
    "                    steps_per_epoch=len(x_train)/batch_size)"
   ]
  },
  {
   "cell_type": "markdown",
   "metadata": {
    "colab_type": "text",
    "id": "5vloUlQWUE2W"
   },
   "source": [
    "### 3.2. Evaluate the model on the test set\n",
    "\n",
    "Do NOT used the test set until now. Make sure that your model parameters and hyper-parameters are independent of the test set."
   ]
  },
  {
   "cell_type": "code",
   "execution_count": 36,
   "metadata": {
    "colab": {
     "base_uri": "https://localhost:8080/",
     "height": 68
    },
    "colab_type": "code",
    "id": "O-JKuROSUE2W",
    "outputId": "4d558140-ab6b-4410-8f08-16a4e4d37344"
   },
   "outputs": [
    {
     "name": "stdout",
     "output_type": "stream",
     "text": [
      "10000/10000 [==============================] - 2s 191us/step\n",
      "loss = 0.5533049704551697\n",
      "accuracy = 0.8152\n"
     ]
    }
   ],
   "source": [
    "loss_and_acc = model.evaluate(x_test, y_test_vec)\n",
    "print('loss = ' + str(loss_and_acc[0]))\n",
    "print('accuracy = ' + str(loss_and_acc[1]))"
   ]
  },
  {
   "cell_type": "code",
   "execution_count": 0,
   "metadata": {
    "colab": {},
    "colab_type": "code",
    "id": "yWX58vPkUE2Y"
   },
   "outputs": [],
   "source": []
  }
 ],
 "metadata": {
  "accelerator": "GPU",
  "colab": {
   "collapsed_sections": [],
   "name": "HW3.ipynb",
   "provenance": [],
   "version": "0.3.2"
  },
  "kernelspec": {
   "display_name": "Python 3",
   "language": "python",
   "name": "python3"
  },
  "language_info": {
   "codemirror_mode": {
    "name": "ipython",
    "version": 3
   },
   "file_extension": ".py",
   "mimetype": "text/x-python",
   "name": "python",
   "nbconvert_exporter": "python",
   "pygments_lexer": "ipython3",
   "version": "3.6.0"
  }
 },
 "nbformat": 4,
 "nbformat_minor": 1
}
